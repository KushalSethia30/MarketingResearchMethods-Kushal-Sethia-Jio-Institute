{
  "nbformat": 4,
  "nbformat_minor": 0,
  "metadata": {
    "colab": {
      "provenance": [],
      "include_colab_link": true
    },
    "kernelspec": {
      "name": "python3",
      "display_name": "Python 3"
    },
    "language_info": {
      "name": "python"
    }
  },
  "cells": [
    {
      "cell_type": "markdown",
      "metadata": {
        "id": "view-in-github",
        "colab_type": "text"
      },
      "source": [
        "<a href=\"https://colab.research.google.com/github/KushalSethia30/MarketingResearchMethods-Kushal-Sethia-Jio-Institute/blob/main/SRK.ipynb\" target=\"_parent\"><img src=\"https://colab.research.google.com/assets/colab-badge.svg\" alt=\"Open In Colab\"/></a>"
      ]
    },
    {
      "cell_type": "code",
      "execution_count": null,
      "metadata": {
        "colab": {
          "base_uri": "https://localhost:8080/"
        },
        "id": "dFr4oDEf8fHW",
        "outputId": "d2316bf2-df53-4f5d-dc46-53edab107185"
      },
      "outputs": [
        {
          "output_type": "stream",
          "name": "stdout",
          "text": [
            "Accuracy: 0.8000\n",
            "Precision: 1.0000\n",
            "Recall: 0.7500\n",
            "Specificity: 1.0000\n",
            "\n",
            "Top 4 Important Features:\n",
            "Released During a Major Festival                 2.012073\n",
            "Directed by Yash Raj Films or Karan Johar        1.081502\n",
            "Features the Death of One of the Protagonists    0.671123\n",
            "Features Another A-List Male Lead                0.632346\n",
            "dtype: float64\n"
          ]
        }
      ],
      "source": [
        "import pandas as pd\n",
        "from sklearn.model_selection import train_test_split\n",
        "from sklearn.svm import SVC\n",
        "from sklearn.preprocessing import StandardScaler\n",
        "from sklearn.metrics import accuracy_score, precision_score, recall_score, confusion_matrix\n",
        "\n",
        "# Load dataset\n",
        "df = pd.read_csv('SRK_12.csv')\n",
        "df = df.replace({'Yes': 1, 'No': 0})  # Convert Yes/No to 1/0\n",
        "df.drop(columns=['Movie Title'], inplace=True)\n",
        "\n",
        "# Define X and y\n",
        "X = df.drop(columns=['Bollywood Blockbuster'])\n",
        "y = df['Bollywood Blockbuster']\n",
        "\n",
        "# Train-test split\n",
        "X_train, X_test, y_train, y_test = train_test_split(X, y, test_size=0.3, random_state=42)\n",
        "\n",
        "# Scale the features\n",
        "scaler = StandardScaler()\n",
        "X_train_scaled = scaler.fit_transform(X_train)\n",
        "X_test_scaled = scaler.transform(X_test)\n",
        "\n",
        "# Train SVM model\n",
        "model = SVC(kernel='linear')\n",
        "model.fit(X_train_scaled, y_train)\n",
        "y_pred = model.predict(X_test_scaled)\n",
        "\n",
        "# Calculate metrics\n",
        "accuracy = accuracy_score(y_test, y_pred)\n",
        "precision = precision_score(y_test, y_pred)\n",
        "recall = recall_score(y_test, y_pred)\n",
        "tn, fp, fn, tp = confusion_matrix(y_test, y_pred).ravel()\n",
        "specificity = tn / (tn + fp)\n",
        "\n",
        "# Print metrics\n",
        "print(f\"Accuracy: {accuracy:.4f}\")\n",
        "print(f\"Precision: {precision:.4f}\")\n",
        "print(f\"Recall: {recall:.4f}\")\n",
        "print(f\"Specificity: {specificity:.4f}\")\n",
        "\n",
        "# Print top 4 most important features based on coefficients\n",
        "coef = model.coef_[0]\n",
        "top_features = pd.Series(coef, index=X.columns).abs().sort_values(ascending=False).head(4)\n",
        "print(\"\\nTop 4 Important Features:\")\n",
        "print(top_features)"
      ]
    },
    {
      "cell_type": "code",
      "source": [],
      "metadata": {
        "id": "2m4DHJHh824k"
      },
      "execution_count": null,
      "outputs": []
    },
    {
      "cell_type": "code",
      "source": [],
      "metadata": {
        "id": "ljVwmc228hHe"
      },
      "execution_count": null,
      "outputs": []
    }
  ]
}